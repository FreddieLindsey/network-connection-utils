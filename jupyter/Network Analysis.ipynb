{
 "cells": [
  {
   "cell_type": "code",
   "execution_count": 1,
   "metadata": {},
   "outputs": [],
   "source": [
    "import os\n",
    "import csv\n",
    "\n",
    "outputs_dir = '../speedtest/outputs'\n",
    "\n",
    "speedtest_data = {}\n",
    "for f in os.listdir(outputs_dir):\n",
    "    with open('{}/{}'.format(outputs_dir, f), 'r') as csvfile:\n",
    "        reader = csv.reader(csvfile)\n",
    "        headers = next(reader, None)\n",
    "        append_headers = False\n",
    "        for h in headers:\n",
    "            if not h in speedtest_data:\n",
    "                append_headers = True\n",
    "                break\n",
    "        if append_headers:\n",
    "            max_row = 0\n",
    "            keys = speedtest_data.keys()\n",
    "            if not len(keys) is 0:\n",
    "                max_row = len(speedtest_data[next(iter(keys))])\n",
    "            for h in headers:\n",
    "                if not h in speedtest_data:\n",
    "                    speedtest_data[h] = ['' for i in range(max_row)]\n",
    "        for row in reader:\n",
    "            for k in [key for key in speedtest_data if key not in headers]:\n",
    "                speedtest_data[k].append('')\n",
    "            for h, v in zip(headers, row):\n",
    "                speedtest_data[h].append(v)       "
   ]
  },
  {
   "cell_type": "code",
   "execution_count": 2,
   "metadata": {},
   "outputs": [],
   "source": [
    "for i in speedtest_data:\n",
    "    print((i, speedtest_data[i][:5]))"
   ]
  },
  {
   "cell_type": "code",
   "execution_count": 3,
   "metadata": {},
   "outputs": [],
   "source": [
    "import numpy as np\n",
    "import pandas as pd\n",
    "from dateutil.parser import parse as dateparser\n",
    "from datetime import timedelta\n",
    "\n",
    "names = list(speedtest_data.keys())\n",
    "values = np.array([speedtest_data[key] for key in names]).transpose()\n",
    "\n",
    "df = pd.DataFrame(values, columns=names, index=range(len(values)))\n",
    "\n",
    "df['download_bits'] = df['download_bits'].apply(float)\n",
    "df['upload_bits'] = df['upload_bits'].apply(float)\n",
    "df['latency_ms'] = df['latency_ms'].apply(float)\n",
    "\n",
    "def add_date_info_to_df(df):\n",
    "    convert_to_seconds = lambda t: int(timedelta(hours=t.hour, minutes=t.minute, seconds=t.second).total_seconds())\n",
    "    df['datetime'] = df['time'].apply(dateparser)\n",
    "    df['datetime_by_hour'] = df['datetime'].apply(lambda t: t.replace(minute=0, second=0, microsecond=0))\n",
    "    df['date'] = df['datetime'].apply(lambda t: t.date())\n",
    "    df['time'] = df['datetime'].apply(lambda t: t.time())\n",
    "\n",
    "add_date_info_to_df(df)"
   ]
  },
  {
   "cell_type": "code",
   "execution_count": 4,
   "metadata": {},
   "outputs": [],
   "source": [
    "import matplotlib.pyplot as plt\n",
    "from datetime import datetime, timedelta"
   ]
  },
  {
   "cell_type": "code",
   "execution_count": 5,
   "metadata": {},
   "outputs": [],
   "source": [
    "df_max_download_bits_by_hour = df[['datetime_by_hour']].copy()\n",
    "max_download_bits_by_hour = df.groupby(['datetime_by_hour'])['download_bits'].max()\n",
    "df_max_download_bits_by_hour.set_index(['datetime_by_hour'], inplace=True)\n",
    "df_max_download_bits_by_hour['download_bits'] = max_download_bits_by_hour\n",
    "df_max_download_bits_by_hour.reset_index(inplace=True)\n",
    "\n",
    "df_max_upload_bits_by_hour = df[['datetime_by_hour']].copy()\n",
    "max_upload_bits_by_hour = df.groupby(['datetime_by_hour'])['upload_bits'].max()\n",
    "df_max_upload_bits_by_hour.set_index(['datetime_by_hour'], inplace=True)\n",
    "df_max_upload_bits_by_hour['upload_bits'] = max_upload_bits_by_hour\n",
    "df_max_upload_bits_by_hour.reset_index(inplace=True)\n",
    "\n",
    "df_min_latency_ms_by_hour = df[['datetime_by_hour']].copy()\n",
    "min_latency_ms_by_hour = df.groupby(['datetime_by_hour'])['latency_ms'].min()\n",
    "df_min_latency_ms_by_hour.set_index(['datetime_by_hour'], inplace=True)\n",
    "df_min_latency_ms_by_hour['latency_ms'] = min_latency_ms_by_hour\n",
    "df_min_latency_ms_by_hour.reset_index(inplace=True)"
   ]
  },
  {
   "cell_type": "code",
   "execution_count": 10,
   "metadata": {},
   "outputs": [],
   "source": [
    "import math\n",
    "\n",
    "def produce_plot_with_datetime_by_hour(df, y_axis, days, y_axis_label=None, y_multiplier=1):\n",
    "    df_ = df.copy()\n",
    "    df_['Date / Time'] = df_['datetime_by_hour'].apply(lambda d: d.timestamp())\n",
    "    df_[y_axis_label] = df_[y_axis]\n",
    "\n",
    "    fig, ax = plt.subplots(figsize=(16,9))\n",
    "    df_.plot(x='Date / Time', y=y_axis_label, kind='scatter', ax=ax)\n",
    "\n",
    "    midnight_today = math.ceil(datetime.now().replace(hour=0, minute=0, second=0).timestamp())\n",
    "    difference = days * 24 * 60 * 60\n",
    "    one_day = 24 * 60 * 60\n",
    "    ax.set_xticks([s for s in range(midnight_today - difference, math.ceil(datetime.now().timestamp()), one_day)])\n",
    "    ax.set_xticklabels([datetime.fromtimestamp(s).strftime(\"%Y-%m-%d\") for s in ax.get_xticks()])\n",
    "    ax.set_yticklabels([ts * y_multiplier for ts in ax.get_yticks()])\n",
    "    plt.show()"
   ]
  },
  {
   "cell_type": "code",
   "execution_count": 11,
   "metadata": {},
   "outputs": [],
   "source": [
    "# DOWNLOAD SPEED OVER TIME\n",
    "\n",
    "produce_plot_with_datetime_by_hour(\n",
    "    df_max_download_bits_by_hour,\n",
    "    'download_bits',\n",
    "    3,\n",
    "    y_axis_label='Download Speed (Mb/s)',\n",
    "    y_multiplier=(1 / 1e6)\n",
    ")"
   ]
  },
  {
   "cell_type": "code",
   "execution_count": 12,
   "metadata": {},
   "outputs": [],
   "source": [
    "# UPLOAD SPEED OVER TIME\n",
    "\n",
    "produce_plot_with_datetime_by_hour(\n",
    "    df_max_upload_bits_by_hour,\n",
    "    'upload_bits',\n",
    "    3,\n",
    "    y_axis_label='Upload Speed (Mb/s)',\n",
    "    y_multiplier=(1 / 1e6)\n",
    ")"
   ]
  },
  {
   "cell_type": "code",
   "execution_count": 13,
   "metadata": {
    "scrolled": false
   },
   "outputs": [],
   "source": [
    "# LATENCY OVER TIME\n",
    "\n",
    "produce_plot_with_datetime_by_hour(\n",
    "    df_min_latency_ms_by_hour,\n",
    "    'latency_ms',\n",
    "    3,\n",
    "    y_axis_label='Latency (ms)',\n",
    "    y_multiplier=(1)\n",
    ")"
   ]
  }
 ],
 "metadata": {
  "kernelspec": {
   "display_name": "Python 3",
   "language": "python",
   "name": "python3"
  },
  "language_info": {
   "codemirror_mode": {
    "name": "ipython",
    "version": 3
   },
   "file_extension": ".py",
   "mimetype": "text/x-python",
   "name": "python",
   "nbconvert_exporter": "python",
   "pygments_lexer": "ipython3",
   "version": "3.7.1"
  }
 },
 "nbformat": 4,
 "nbformat_minor": 2
}
